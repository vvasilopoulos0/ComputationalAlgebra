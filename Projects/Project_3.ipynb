{
  "cells": [
    {
      "metadata": {
        "trusted": true
      },
      "cell_type": "code",
      "source": "from fractions import Fraction\nfrom sympy import Symbol,poly,degree,degree_list,simplify,limit\nfrom numpy import sign\nimport numpy as np\nimport sympy as sp\nimport time\nimport math",
      "execution_count": 1,
      "outputs": []
    },
    {
      "metadata": {},
      "cell_type": "markdown",
      "source": "<b><center>ASKHSH 1</center></b>"
    },
    {
      "metadata": {
        "trusted": true
      },
      "cell_type": "code",
      "source": "quo_list = []\n\ndef contFract(nominator,denominator):\n    global it \n    it = 0\n    quotient = nominator//denominator\n    rem = nominator%denominator\n    quo_list.append(quotient)\n    if (rem != 0):\n        it += 1\n        return contFract(denominator,rem)\n    else:\n        print('The list of quotients is {}' .format(quo_list))",
      "execution_count": 133,
      "outputs": []
    },
    {
      "metadata": {
        "trusted": true,
        "scrolled": false
      },
      "cell_type": "code",
      "source": "contFract(21,13)",
      "execution_count": 134,
      "outputs": [
        {
          "output_type": "stream",
          "text": "The list of quotients is [1, 1, 1, 1, 1, 2]\n",
          "name": "stdout"
        }
      ]
    },
    {
      "metadata": {
        "trusted": true
      },
      "cell_type": "code",
      "source": "convergent_list = []\ndef converg(quo_list):\n    p_0 = 0\n    p_1 = 1\n    q_0 = 1\n    q_1 = 0\n    for i in quo_list:\n        p = quo_list[i-1]*p_1 + p_0\n        q = quo_list[i-1]*q_1 + q_0\n        convergent_list.append(p/q)\n        p_0 = p_1\n        p_1 = p\n        q_0 = q_1\n        q_1 = q\n    quo_list = []\n    print('The list of convergents is {}' .format(convergent_list))\n        \n        \n    ",
      "execution_count": 135,
      "outputs": []
    },
    {
      "metadata": {
        "trusted": true
      },
      "cell_type": "code",
      "source": "converg(quo_list)",
      "execution_count": 136,
      "outputs": [
        {
          "output_type": "stream",
          "text": "The list of convergents is [1.0, 2.0, 1.5, 1.6666666666666667, 1.6, 1.625]\n",
          "name": "stdout"
        }
      ]
    },
    {
      "metadata": {},
      "cell_type": "markdown",
      "source": "<b><center>ASKHSH 2</center></b>"
    },
    {
      "metadata": {
        "trusted": true
      },
      "cell_type": "code",
      "source": "pi = 3.141592\nquo_list = []\ndef real_converg(quo_list):\n    quo_list = [int(i) for i in quo_list]\n    a = []\n    converg_list = []\n    i = 2\n    a.append(Fraction(quo_list[0],1))\n    a.append((Fraction(a[0]*quo_list[1] + 1)/quo_list[1]))\n    converg_list.append(a[0].numerator/a[1].denominator)\n    converg_list.append(a[1].numerator/a[1].denominator)\n    while (i < len(quo_list)):\n        a.append(Fraction(a[i-1].numerator*quo_list[i] + a[i-2].numerator)/(a[i-1].denominator*quo_list[i] + a[i-2].denominator))\n        converg_list.append(a[i].numerator/a[i].denominator)\n        i += 1\n    print ('Το ανάπτυγμα του {} είναι:\\n' .format(converg_list[len(converg_list)-1]))\n    for i in range(len(converg_list)//2): # we dont need to print all of them since we see the pattern, it gets closer to pi each time\n        print(converg_list[i])\n    print('\\n')\n    print ('Σε κλασματική μορφή το ανάπτυγμα του {} είναι: \\n' .format(converg_list[len(converg_list)-1])) \n    for i in range(len(a)//2):\n        print(a[i])\n    ",
      "execution_count": 149,
      "outputs": []
    },
    {
      "metadata": {
        "trusted": true
      },
      "cell_type": "code",
      "source": "contFract(3.14159265359,1)",
      "execution_count": 150,
      "outputs": [
        {
          "output_type": "stream",
          "text": "The list of quotients is [3.0, 7.0, 15.0, 1.0, 292.0, 1.0, 1.0, 1.0, 2.0, 1.0, 4.0, 1.0, 1.0, 1.0, 1.0, 1.0, 4.0, 3.0, 22.0, 1.0, 1.0, 6.0, 3.0, 1.0, 7.0, 1.0, 1.0, 21.0, 11.0]\n",
          "name": "stdout"
        }
      ]
    },
    {
      "metadata": {
        "trusted": true,
        "scrolled": true
      },
      "cell_type": "code",
      "source": "real_converg(quo_list)",
      "execution_count": 151,
      "outputs": [
        {
          "output_type": "stream",
          "text": "Το ανάπτυγμα του 3.14159265359 είναι:\n\n0.42857142857142855\n3.142857142857143\n3.141509433962264\n3.1415929203539825\n3.1415926530119025\n3.141592653921421\n3.1415926534674368\n3.1415926536189365\n3.141592653581078\n3.141592653591404\n3.1415926535898153\n3.141592653590093\n3.141592653589967\n3.1415926535900116\n\n\nΣε κλασματική μορφή το ανάπτυγμα του 3.14159265359 είναι: \n\n3\n22/7\n333/106\n355/113\n103993/33102\n104348/33215\n208341/66317\n312689/99532\n833719/265381\n1146408/364913\n5419351/1725033\n6565759/2089946\n11985110/3814979\n18550869/5904925\n",
          "name": "stdout"
        }
      ]
    },
    {
      "metadata": {
        "trusted": true
      },
      "cell_type": "code",
      "source": "quo_list = []\ncontFract(1.73205080757,1)",
      "execution_count": 152,
      "outputs": [
        {
          "output_type": "stream",
          "text": "The list of quotients is [1.0, 1.0, 2.0, 1.0, 2.0, 1.0, 2.0, 1.0, 2.0, 1.0, 2.0, 1.0, 2.0, 1.0, 2.0, 1.0, 2.0, 1.0, 2.0, 1.0, 3.0, 14.0, 6.0, 1.0, 19.0, 1.0, 8.0, 13.0, 1.0, 1.0, 4.0, 382.0, 4.0, 2.0]\n",
          "name": "stdout"
        }
      ]
    },
    {
      "metadata": {
        "trusted": true
      },
      "cell_type": "code",
      "source": "real_converg(quo_list)",
      "execution_count": 153,
      "outputs": [
        {
          "output_type": "stream",
          "text": "Το ανάπτυγμα του 1.73205080757 είναι:\n\n1.0\n2.0\n1.6666666666666667\n1.75\n1.7272727272727273\n1.7333333333333334\n1.7317073170731707\n1.7321428571428572\n1.7320261437908497\n1.7320574162679425\n1.7320490367775832\n1.7320512820512821\n1.7320506804317222\n1.732050841635177\n1.73205079844084\n1.7320508100147276\n1.7320508069135137\n\n\nΣε κλασματική μορφή το ανάπτυγμα του 1.73205080757 είναι: \n\n1\n2\n5/3\n7/4\n19/11\n26/15\n71/41\n97/56\n265/153\n362/209\n989/571\n1351/780\n3691/2131\n5042/2911\n13775/7953\n18817/10864\n51409/29681\n",
          "name": "stdout"
        }
      ]
    },
    {
      "metadata": {
        "trusted": true
      },
      "cell_type": "markdown",
      "source": "<b><center>ASKHSH 3</center></b>"
    },
    {
      "metadata": {},
      "cell_type": "markdown",
      "source": "Team21mod7 = 0 , άρα έχουμε το LMQ"
    },
    {
      "metadata": {
        "trusted": true
      },
      "cell_type": "code",
      "source": "x = Symbol('x')\nLMQ_poly = poly(x**3 + (10**100)*x**2 - (10**100)*x - 1) ",
      "execution_count": 6,
      "outputs": []
    },
    {
      "metadata": {
        "trusted": true
      },
      "cell_type": "code",
      "source": "def LMQ(polynomial):\n    coeff = polynomial.all_coeffs()\n    coeff.reverse()\n    timesused = np.ones(len(coeff))\n    ub = 0\n    if (len(coeff) <= 1):\n        return ub \n    m = len(coeff) - 2\n    max_list = []\n    while (m >= 0):\n        min_list = []\n        if (coeff[m] < 0):\n            tempub  = 10**150\n            k = len(coeff) -1\n            while(k >= m):\n                if (coeff[k] > 0):\n                    \n                    temp = (-coeff[m]/(coeff[k]/2**timesused[k]))**(1/(k-m))\n                    timesused[k] += 1\n                    min_list.append(temp)\n                k -=1\n            max_list.append(min(min_list))\n        m -= 1\n    print('The upper bound of the polynomial {} is {}' .format(poly,max(max_list)))\n    return max(max_list)\n                ",
      "execution_count": 157,
      "outputs": []
    },
    {
      "metadata": {
        "trusted": true
      },
      "cell_type": "code",
      "source": "LMQ_value = LMQ(LMQ_poly)",
      "execution_count": 158,
      "outputs": [
        {
          "output_type": "stream",
          "text": "The upper bound of the polynomial <function poly at 0x7f3afc98d488> is 2.00000000000000\n",
          "name": "stdout"
        }
      ]
    },
    {
      "metadata": {},
      "cell_type": "markdown",
      "source": "ASKHSH 4"
    },
    {
      "metadata": {
        "trusted": true
      },
      "cell_type": "markdown",
      "source": "Αρχικά, ο αλγόριθμος bisection , με τον οποίο θα γίνει η προσέγγιση των ριζών"
    },
    {
      "metadata": {},
      "cell_type": "markdown",
      "source": "<b>Bisection</b>"
    },
    {
      "metadata": {
        "trusted": true
      },
      "cell_type": "code",
      "source": "def bisection(polynomial,a,b):\n    fa = polynomial.subs(x,a) #value of polynomial at a\n    fb = polynomial.subs(x,b) #value of polynomial at b\n    c = (a+b)/2 #midpoint\n    fc = polynomial.subs(x,c) #value of polynomial at c\n    iters = 0\n    while((abs(fc) >= 10**(-5)) and ((b-a)/2 > 10**(-5))):\n        if (np.sign(fc) == np.sign(fa)):\n            a = c\n        if (np.sign(fc) == np.sign(fb)):\n            b = c\n        iters += 1\n        c = (a+b)/2 #midpoint\n        fc = polynomial.subs(x,c)\n    print('The root of {} after {} iterations is at {} with value {}' .format(polynomial,iters,c,fc))",
      "execution_count": 7,
      "outputs": []
    },
    {
      "metadata": {},
      "cell_type": "markdown",
      "source": "Έπειτα ο VCA , ο οποίος βασίζεται στη διχοτόμηση"
    },
    {
      "metadata": {},
      "cell_type": "markdown",
      "source": "<b>VCA</b>"
    },
    {
      "metadata": {
        "trusted": true
      },
      "cell_type": "code",
      "source": "VCA_list  = []\ndef VCA(polynomial,a,b):\n    deg = polynomial.degree()\n    var_poly1 = poly((x+1)**deg,x)#we break the (x+1)^deg(p) *(p(1/x+1)) in 2 terms and then we multiply them\n    var_poly2 = polynomial.subs(x,1/(x+1))\n    var_poly = var_poly1 * var_poly2\n    var_poly = simplify(var_poly)\n    var_poly = poly(var_poly,x)\n    coeff = var_poly.coeffs()\n    var = 0\n    signs = np.sign(coeff)\n    for i in range(len(signs)-1):\n        if (signs[i] != signs[i+1]):\n            var +=1 \n    if var == 0:\n        print('Found no root in the interval ({},{})' .format(a,b))\n        return\n    elif var == 1:\n        print('There is a real,positive root in the interval ({},{})' .format(a,b))\n        VCA_list.append([a,b])\n        return (a,b)\n    p0_05 = 2**(polynomial.degree())*polynomial.subs(x,x/2)\n    if type(poly) != sp.polys.polytools.Poly :\n        p0_05 = poly(p0_05,x)\n    m = 0.5*(a+b)\n    p05_1 = (2**(deg))*polynomial.subs(x,(x+1)/2)\n    if type(poly) != sp.polys.polytools.Poly :\n        p05_1 = poly(p05_1,x)   \n    if (polynomial.subs(x,m) != 0):\n        return [VCA(p0_05,a,m),VCA(p05_1,m,b)]\n    else:\n        return [VCA(p0_05,a,m),VCA(p05_1,m,b),m]",
      "execution_count": 8,
      "outputs": []
    },
    {
      "metadata": {},
      "cell_type": "markdown",
      "source": "<b>Πρώτο πολυώνυμο<b>"
    },
    {
      "metadata": {
        "trusted": true
      },
      "cell_type": "code",
      "source": "first_poly = poly(64*x**7 - 112*x**5 + 56*x**3 - 7*x)",
      "execution_count": 9,
      "outputs": []
    },
    {
      "metadata": {},
      "cell_type": "markdown",
      "source": "Επιλογή του UB = 1"
    },
    {
      "metadata": {
        "trusted": true,
        "scrolled": true
      },
      "cell_type": "code",
      "source": "VCA_list = []\nfirst_start_VCA_time = time.time()\nVCA(first_poly,0,1)\nfirst_end_VCA_time = time.time()\nfirst_VCA_time = first_end_VCA_time - first_start_VCA_time\nprint('\\nTime elapsed for the first polynomial with the VCA method is {} seconds' .format(first_VCA_time))",
      "execution_count": 10,
      "outputs": [
        {
          "output_type": "stream",
          "text": "There is a real,positive root in the interval (0,0.5)\nFound no root in the interval (0.5,0.75)\nThere is a real,positive root in the interval (0.75,0.875)\nThere is a real,positive root in the interval (0.875,1)\n\nTime elapsed for the first polynomial with the VCA method is 4.482646703720093 seconds\n",
          "name": "stdout"
        }
      ]
    },
    {
      "metadata": {},
      "cell_type": "markdown",
      "source": "Εφόσον το first_poly(0) είναι ίσο με 0, δεν μπορούμε να κάνουμε bisection στο διάστημα (0,0.5), οπότε στο πρώτο διάστημα προσθέτουμε μια πολύ μικρή ποσότητα da στο α , ώστε firstpoly(0+da) != 0 και firstpoly(0+da) διαφορετικό πρόσημο με firstpoly(0.5)"
    },
    {
      "metadata": {
        "trusted": true
      },
      "cell_type": "code",
      "source": "VCA_list[0][0] += 2.05623357236e-296\nroot_count = 0\nfor i in range (len(VCA_list)):\n    bisection(first_poly,VCA_list[i][0],VCA_list[i][1])\n    root_count +=1\nprint('\\nTotal of {} positive real roots' .format(root_count))",
      "execution_count": 11,
      "outputs": [
        {
          "output_type": "stream",
          "text": "The root of Poly(64*x**7 - 112*x**5 + 56*x**3 - 7*x, x, domain='ZZ') after 14 iterations is at 0.4338836669921875 with value -5.60371842638543E-7\nThe root of Poly(64*x**7 - 112*x**5 + 56*x**3 - 7*x, x, domain='ZZ') after 13 iterations is at 0.7818374633789062 with value -0.0000671488575813691\nThe root of Poly(64*x**7 - 112*x**5 + 56*x**3 - 7*x, x, domain='ZZ') after 13 iterations is at 0.9749221801757812 with value -0.000180305634350273\n\nTotal of 3 positive real roots\n",
          "name": "stdout"
        }
      ]
    },
    {
      "metadata": {},
      "cell_type": "markdown",
      "source": "<b>Δεύτερο Πολυώνυμο</b>"
    },
    {
      "metadata": {
        "trusted": true
      },
      "cell_type": "code",
      "source": "second_poly = poly(128*x**8 - 256*x**6 + 160*x**4 - 32*x**2 + 1,x)",
      "execution_count": 12,
      "outputs": []
    },
    {
      "metadata": {},
      "cell_type": "markdown",
      "source": "Επιλογή του UB = 1"
    },
    {
      "metadata": {
        "trusted": true
      },
      "cell_type": "code",
      "source": "VCA_list = [] #emptying VCA_list so it doesnt keep the old values\nsecond_start_VCA_time = time.time()\nVCA(second_poly,0,1)\nsecond_end_VCA_time = time.time()\nsecond_VCA_time = second_end_VCA_time - second_start_VCA_time\nprint('\\nTime elapsed for the second polynomial with the VCA method is {} seconds' .format(second_VCA_time))",
      "execution_count": 13,
      "outputs": [
        {
          "output_type": "stream",
          "text": "There is a real,positive root in the interval (0,0.5)\nThere is a real,positive root in the interval (0.5,0.75)\nThere is a real,positive root in the interval (0.75,0.875)\nThere is a real,positive root in the interval (0.875,1)\n\nTime elapsed for the second polynomial with the VCA method is 4.03047251701355 seconds\n",
          "name": "stdout"
        }
      ]
    },
    {
      "metadata": {},
      "cell_type": "markdown",
      "source": "Πλέον δεν χρειάζεται να προσθέσουμε ή να αφαιρέσουμε τιμή σε κάποιο ακραίο σημείο των διαστημάτων διότι οι ρίζες βρίσκονται ανάμεσά τους. Οπότε, απλά κάνουμε bisection."
    },
    {
      "metadata": {
        "trusted": true,
        "scrolled": true
      },
      "cell_type": "code",
      "source": "root_count = 0\nfor i in range (len(VCA_list)):\n    bisection(second_poly,VCA_list[i][0],VCA_list[i][1])\n    root_count +=1\nprint('\\nTotal of {} positive real roots' .format(root_count))",
      "execution_count": 14,
      "outputs": [
        {
          "output_type": "stream",
          "text": "The root of Poly(128*x**8 - 256*x**6 + 160*x**4 - 32*x**2 + 1, x, domain='ZZ') after 15 iterations is at 0.19509124755859375 with value -0.00000754940002334337\nThe root of Poly(128*x**8 - 256*x**6 + 160*x**4 - 32*x**2 + 1, x, domain='ZZ') after 14 iterations is at 0.5555648803710938 with value -0.0000515004942092112\nThe root of Poly(128*x**8 - 256*x**6 + 160*x**4 - 32*x**2 + 1, x, domain='ZZ') after 13 iterations is at 0.8314743041992188 with value -0.0000675619540730921\nThe root of Poly(128*x**8 - 256*x**6 + 160*x**4 - 32*x**2 + 1, x, domain='ZZ') after 13 iterations is at 0.9807815551757812 with value -0.000152751755569280\n\nTotal of 4 positive real roots\n",
          "name": "stdout"
        }
      ]
    },
    {
      "metadata": {},
      "cell_type": "markdown",
      "source": "<b>VGA</b>"
    },
    {
      "metadata": {
        "trusted": true
      },
      "cell_type": "code",
      "source": "VGA_list  = []\ndef VGA(polynomial,a,b):\n    deg = polynomial.degree()\n    var_poly1 = poly((x+1)**deg,x)#we break the (x+1)^deg(p) *(p(1/x+1)) in 2 terms and then we multiply them\n    var_poly2 = polynomial.subs(x,(a+b*x)/(x+1))\n    var_poly = var_poly1 * var_poly2\n    var_poly = simplify(var_poly)\n    var_poly = poly(var_poly,x)\n    coeff = var_poly.coeffs()\n    var = 0\n    signs = np.sign(coeff)\n    for i in range(len(signs)-1):\n        if (signs[i] != signs[i+1]):\n            var +=1 \n    if var == 0:\n        print('Found no root in the interval ({},{})' .format(a,b))\n        return\n    elif var == 1:\n        print('There is a real,positive root in the interval ({},{})' .format(a,b))\n        VGA_list.append([a,b])\n        return (a,b)\n    m = 0.5*(a+b)   \n    if (polynomial.subs(x,m) != 0):\n        #VCA_left_side = [p0_05,a,m]  #list that contains the arguments on the (0,1/2) interval\n        \n        return [VGA(polynomial,a,m),VGA(polynomial,m,b)]\n        \n        \n    else:\n        return [VGA(polynomial,a,m),VGA(polynomial,m,b),m]",
      "execution_count": 16,
      "outputs": []
    },
    {
      "metadata": {},
      "cell_type": "markdown",
      "source": "<b>Πρώτο πολυώνυμο<b>"
    },
    {
      "metadata": {},
      "cell_type": "markdown",
      "source": "Επιλογή του UB = 1"
    },
    {
      "metadata": {
        "trusted": true
      },
      "cell_type": "code",
      "source": "VGA_list = []\nfirst_start_VGA_time = time.time()\nVGA(first_poly,0,1)\nfirst_end_VGA_time = time.time()\nfirst_VGA_time = first_end_VGA_time - first_start_VGA_time\nprint('\\nTime elapsed for the first polynomial with the VGA method is {} seconds' .format(first_end_VGA_time - first_start_VGA_time))",
      "execution_count": 17,
      "outputs": [
        {
          "output_type": "stream",
          "text": "There is a real,positive root in the interval (0,0.5)\nFound no root in the interval (0.5,0.75)\nThere is a real,positive root in the interval (0.75,0.875)\nThere is a real,positive root in the interval (0.875,1)\n\nTime elapsed for the first polynomial with the VGA method is 3.8870155811309814 seconds\n",
          "name": "stdout"
        }
      ]
    },
    {
      "metadata": {
        "trusted": true
      },
      "cell_type": "code",
      "source": "VGA_list[0][0] += 2.05623357236e-296\nroot_count = 0\nfor i in range (len(VGA_list)):\n    bisection(first_poly,VGA_list[i][0],VGA_list[i][1])\n    root_count +=1\nprint('\\nTotal of {} positive real roots' .format(root_count))",
      "execution_count": 18,
      "outputs": [
        {
          "output_type": "stream",
          "text": "The root of Poly(64*x**7 - 112*x**5 + 56*x**3 - 7*x, x, domain='ZZ') after 14 iterations is at 0.4338836669921875 with value -5.60371842638543E-7\nThe root of Poly(64*x**7 - 112*x**5 + 56*x**3 - 7*x, x, domain='ZZ') after 13 iterations is at 0.7818374633789062 with value -0.0000671488575813691\nThe root of Poly(64*x**7 - 112*x**5 + 56*x**3 - 7*x, x, domain='ZZ') after 13 iterations is at 0.9749221801757812 with value -0.000180305634350273\n\nTotal of 3 positive real roots\n",
          "name": "stdout"
        }
      ]
    },
    {
      "metadata": {},
      "cell_type": "markdown",
      "source": "<b>Δεύτερο Πολυώνυμο</b>"
    },
    {
      "metadata": {},
      "cell_type": "markdown",
      "source": "Επιλογή του UB = 1"
    },
    {
      "metadata": {
        "trusted": true
      },
      "cell_type": "code",
      "source": "VGA_list = [] #emptying VGA_list so it doesnt keep the old values\nsecond_start_VGA_time = time.time()\nVGA(second_poly,0,1)\nsecond_end_VGA_time = time.time()\nsecond_VGA_time = second_end_VGA_time - second_start_VGA_time\nprint('\\nTime elapsed for the second polynomial with the VGA method is {} seconds' .format(second_end_VGA_time - second_start_VGA_time))",
      "execution_count": 19,
      "outputs": [
        {
          "output_type": "stream",
          "text": "There is a real,positive root in the interval (0,0.5)\nThere is a real,positive root in the interval (0.5,0.75)\nThere is a real,positive root in the interval (0.75,0.875)\nThere is a real,positive root in the interval (0.875,1)\n\nTime elapsed for the second polynomial with the VGA method is 4.070818185806274 seconds\n",
          "name": "stdout"
        }
      ]
    },
    {
      "metadata": {
        "trusted": true
      },
      "cell_type": "code",
      "source": "root_count = 0\nfor i in range (len(VGA_list)):\n    bisection(second_poly,VGA_list[i][0],VGA_list[i][1])\n    root_count +=1\nprint('\\nTotal of {} positive real roots' .format(root_count))",
      "execution_count": 20,
      "outputs": [
        {
          "output_type": "stream",
          "text": "The root of Poly(128*x**8 - 256*x**6 + 160*x**4 - 32*x**2 + 1, x, domain='ZZ') after 15 iterations is at 0.19509124755859375 with value -0.00000754940002334337\nThe root of Poly(128*x**8 - 256*x**6 + 160*x**4 - 32*x**2 + 1, x, domain='ZZ') after 14 iterations is at 0.5555648803710938 with value -0.0000515004942092112\nThe root of Poly(128*x**8 - 256*x**6 + 160*x**4 - 32*x**2 + 1, x, domain='ZZ') after 13 iterations is at 0.8314743041992188 with value -0.0000675619540730921\nThe root of Poly(128*x**8 - 256*x**6 + 160*x**4 - 32*x**2 + 1, x, domain='ZZ') after 13 iterations is at 0.9807815551757812 with value -0.000152751755569280\n\nTotal of 4 positive real roots\n",
          "name": "stdout"
        }
      ]
    },
    {
      "metadata": {},
      "cell_type": "markdown",
      "source": "<b>VAS</b>"
    },
    {
      "metadata": {
        "trusted": true
      },
      "cell_type": "code",
      "source": "VAS_list  = []\ndef VAS(polynomial,M):\n    deg = polynomial.degree()\n    coeff = polynomial.coeffs()\n    var = 0\n    signs = np.sign(coeff)\n    for i in range(len(signs)-1):\n        if (signs[i] != signs[i+1]):\n            var +=1 \n    if var == 0:\n        return\n    elif var == 1:\n        a = min([limit(M,x,0),limit(M,x,math.inf)])\n        b = max([limit(M,x,0),limit(M,x,math.inf)])\n        \n        if math.isnan(b):\n            b = 1         \n        print('There is a real,positive root in the interval ({},{})' .format(a,b))\n        VAS_list.append([a,b])\n        return (a,b)\n    p0_1 = simplify(poly((x+1)**deg) * polynomial.subs(x,1/(x+1)))\n    M0_1 = simplify(M.subs(x,1/(x+1)))\n    m = M.subs(x,1)\n    p1_inf = simplify(polynomial.subs(x,x+1))\n    M1_inf = simplify(M.subs(x,x+1))    \n    if (polynomial.subs(x,1) != 0):\n        return [VAS(p0_1,M0_1),VAS(p1_inf,M1_inf)]\n    else:\n        return [VAS(p0_1,M0_1),VAS(p1_inf,M1_inf)]",
      "execution_count": 21,
      "outputs": []
    },
    {
      "metadata": {},
      "cell_type": "markdown",
      "source": "<b>Πρώτο πολυώνυμο<b>"
    },
    {
      "metadata": {},
      "cell_type": "markdown",
      "source": "Επιλογή του UB = 1"
    },
    {
      "metadata": {
        "trusted": true,
        "scrolled": true
      },
      "cell_type": "code",
      "source": "VAS_list = []\nfirst_start_VAS_time = time.time()\nVAS(first_poly,poly(x))\nfirst_end_VAS_time = time.time()\nfirst_VAS_time = first_end_VAS_time - first_start_VAS_time\nprint('\\nTime elapsed for the first polynomial with the VAS method is {} seconds' .format(first_end_VAS_time - first_start_VAS_time))",
      "execution_count": 22,
      "outputs": [
        {
          "output_type": "stream",
          "text": "There is a real,positive root in the interval (3/4,4/5)\nThere is a real,positive root in the interval (4/5,1)\nThere is a real,positive root in the interval (0,1/2)\n\nTime elapsed for the first polynomial with the VAS method is 4.126358509063721 seconds\n",
          "name": "stdout"
        }
      ]
    },
    {
      "metadata": {
        "trusted": true
      },
      "cell_type": "code",
      "source": "VAS_list[2][0] += 2.05623357236e-296\nroot_count = 0\nfor i in range (len(VAS_list)):\n    bisection(first_poly,float(VAS_list[i][0]),float(VAS_list[i][1]))\n    root_count +=1\nprint('\\nTotal of {} positive real roots' .format(root_count))",
      "execution_count": 23,
      "outputs": [
        {
          "output_type": "stream",
          "text": "The root of Poly(64*x**7 - 112*x**5 + 56*x**3 - 7*x, x, domain='ZZ') after 12 iterations is at 0.7818298339843749 with value 0.0000185077068155182\nThe root of Poly(64*x**7 - 112*x**5 + 56*x**3 - 7*x, x, domain='ZZ') after 14 iterations is at 0.974932861328125 with value 0.000155696416829928\nThe root of Poly(64*x**7 - 112*x**5 + 56*x**3 - 7*x, x, domain='ZZ') after 14 iterations is at 0.4338836669921875 with value -5.60371842638543E-7\n\nTotal of 3 positive real roots\n",
          "name": "stdout"
        }
      ]
    },
    {
      "metadata": {},
      "cell_type": "markdown",
      "source": "<b>Δεύτερο Πολυώνυμο</b>"
    },
    {
      "metadata": {},
      "cell_type": "markdown",
      "source": "Επιλογή του UB = 1"
    },
    {
      "metadata": {
        "trusted": true
      },
      "cell_type": "code",
      "source": "VAS_list = []\nsecond_start_VAS_time = time.time()\nVAS(second_poly,poly(x))\nsecond_end_VAS_time = time.time()\nsecond_VAS_time = second_end_VAS_time - second_start_VAS_time\nprint('\\nTime elapsed for the second polynomial with the VAS method is {} seconds' .format(second_end_VAS_time - second_start_VAS_time))",
      "execution_count": 24,
      "outputs": [
        {
          "output_type": "stream",
          "text": "There is a real,positive root in the interval (1/2,2/3)\nThere is a real,positive root in the interval (4/5,5/6)\nThere is a real,positive root in the interval (5/6,1)\nThere is a real,positive root in the interval (0,1/2)\n\nTime elapsed for the second polynomial with the VAS method is 6.865582466125488 seconds\n",
          "name": "stdout"
        }
      ]
    },
    {
      "metadata": {
        "trusted": true
      },
      "cell_type": "code",
      "source": "root_count = 0\nfor i in range (len(VAS_list)):\n    bisection(second_poly,float(VAS_list[i][0]),float(VAS_list[i][1]))\n    root_count +=1\nprint('\\nTotal of {} positive real roots' .format(root_count))",
      "execution_count": 25,
      "outputs": [
        {
          "output_type": "stream",
          "text": "The root of Poly(128*x**8 - 256*x**6 + 160*x**4 - 32*x**2 + 1, x, domain='ZZ') after 14 iterations is at 0.5555674235026041 with value -0.0000270317883854787\nThe root of Poly(128*x**8 - 256*x**6 + 160*x**4 - 32*x**2 + 1, x, domain='ZZ') after 11 iterations is at 0.8314697265625001 with value -0.00000164530013790909\nThe root of Poly(128*x**8 - 256*x**6 + 160*x**4 - 32*x**2 + 1, x, domain='ZZ') after 14 iterations is at 0.9807891845703125 with value 0.000160104855610355\nThe root of Poly(128*x**8 - 256*x**6 + 160*x**4 - 32*x**2 + 1, x, domain='ZZ') after 15 iterations is at 0.19509124755859375 with value -0.00000754940002334337\n\nTotal of 4 positive real roots\n",
          "name": "stdout"
        }
      ]
    },
    {
      "metadata": {},
      "cell_type": "markdown",
      "source": "<B>Ανάλυση Χρόνου</B>"
    },
    {
      "metadata": {},
      "cell_type": "markdown",
      "source": "<center>VGA-VCA</center>"
    },
    {
      "metadata": {
        "trusted": true
      },
      "cell_type": "code",
      "source": "print('Time difference between VGA and VCA in the first polynomial is {}' .format(first_VGA_time - first_VCA_time))\nprint('Time difference between VGA and VCA in the second polynomial is {}' .format(second_VGA_time - second_VCA_time))",
      "execution_count": 26,
      "outputs": [
        {
          "output_type": "stream",
          "text": "Time difference between VGA and VCA in the first polynomial is -0.5956311225891113\nTime difference between VGA and VCA in the second polynomial is 0.04034566879272461\n",
          "name": "stdout"
        }
      ]
    },
    {
      "metadata": {},
      "cell_type": "markdown",
      "source": "<center>VAS-VCA</center>"
    },
    {
      "metadata": {
        "trusted": true
      },
      "cell_type": "code",
      "source": "print('Time difference between VAS and VCA in the first polynomial is {}' .format(first_VAS_time - first_VCA_time))\nprint('Time difference between VAS and VCA in the second polynomial is {}' .format(second_VAS_time - second_VCA_time))",
      "execution_count": 27,
      "outputs": [
        {
          "output_type": "stream",
          "text": "Time difference between VAS and VCA in the first polynomial is -0.35628819465637207\nTime difference between VAS and VCA in the second polynomial is 2.8351099491119385\n",
          "name": "stdout"
        }
      ]
    },
    {
      "metadata": {},
      "cell_type": "markdown",
      "source": "<center>VGA-VAS</center>"
    },
    {
      "metadata": {
        "trusted": true
      },
      "cell_type": "code",
      "source": "print('Time difference between VGA and VAS in the first polynomial is {}' .format(first_VGA_time - first_VAS_time))\nprint('Time difference between VGA and VAS in the second polynomial is {}' .format(second_VGA_time - second_VAS_time))",
      "execution_count": 28,
      "outputs": [
        {
          "output_type": "stream",
          "text": "Time difference between VGA and VAS in the first polynomial is -0.23934292793273926\nTime difference between VGA and VAS in the second polynomial is -2.794764280319214\n",
          "name": "stdout"
        }
      ]
    },
    {
      "metadata": {
        "trusted": true
      },
      "cell_type": "code",
      "source": "",
      "execution_count": null,
      "outputs": []
    }
  ],
  "metadata": {
    "kernelspec": {
      "name": "python36",
      "display_name": "Python 3.6",
      "language": "python"
    },
    "language_info": {
      "mimetype": "text/x-python",
      "nbconvert_exporter": "python",
      "name": "python",
      "pygments_lexer": "ipython3",
      "version": "3.6.6",
      "file_extension": ".py",
      "codemirror_mode": {
        "version": 3,
        "name": "ipython"
      }
    }
  },
  "nbformat": 4,
  "nbformat_minor": 2
}
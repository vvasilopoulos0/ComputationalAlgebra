{
  "cells": [
    {
      "metadata": {
        "ExecuteTime": {
          "end_time": "2019-11-21T21:17:52.48685Z",
          "start_time": "2019-11-21T21:17:51.945981Z"
        },
        "trusted": false
      },
      "cell_type": "code",
      "source": "import itertools\n\nfrom sympy.polys.polytools import degree, div, gcd, refine_root, sturm\nfrom sympy import Float, LC, LT, Matrix, Poly, diff, sign, symbols\nfrom mpmath import ceil, root\nfrom sympy.polys.subresultants_qq_zz import euclid_amv",
      "execution_count": 1,
      "outputs": []
    },
    {
      "metadata": {
        "ExecuteTime": {
          "end_time": "2019-11-21T21:17:52.490838Z",
          "start_time": "2019-11-21T21:17:52.487837Z"
        },
        "trusted": false
      },
      "cell_type": "code",
      "source": "x = symbols(\"x\")",
      "execution_count": 2,
      "outputs": []
    },
    {
      "metadata": {},
      "cell_type": "markdown",
      "source": "# Πρώτος αλγόριθμος υπολογισμού των prs με τριγωνοποίηση πινάκων"
    },
    {
      "metadata": {
        "ExecuteTime": {
          "end_time": "2019-11-21T21:17:52.498834Z",
          "start_time": "2019-11-21T21:17:52.492846Z"
        },
        "trusted": false
      },
      "cell_type": "code",
      "source": "# function to create a polynomial from given coefficients\ndef create_polynomial_from_coeff(coeffs, x=None):\n    if x is None:\n        x = symbols('x')\n    pol = sum(coeff * x**i for i, coeff in enumerate(reversed(coeffs)))\n    return pol\n\n\n# calculates delta from Anna Johnson paper\ndef delta_f(r1, r2, x):\n    return degree(r1, x) - degree(r2, x) + 1\n\n\n# calculates psi from Anna Johnson paper\ndef psi_f(r1, delta_prev, psi_prev, x):\n    return ((-LC(r1, x))**(delta_prev - 1)) / (psi_prev**(delta_prev - 2))\n\n\n# calculates beta from Anna Johnson paper\ndef beta_f(r1, delta_prev, psi, x):\n    return (psi**(delta_prev - 1)) * (-LC(r1, x))",
      "execution_count": 3,
      "outputs": []
    },
    {
      "metadata": {
        "ExecuteTime": {
          "end_time": "2019-11-21T21:17:52.513841Z",
          "start_time": "2019-11-21T21:17:52.499834Z"
        },
        "trusted": false
      },
      "cell_type": "code",
      "source": "# this function is mimicking the pivot function from Xcas\n# Although it only uses a single argument m which is the matrix it has the same functionality as\n# It triangulates the matrix m it a loop and each iteration is like calling the pivot from Xcas\n# meaning it does not effect the rows above the current row\ndef pivot(m):\n    rows, cols = m.shape\n    for iteration in range(rows - 1):\n        # m[iteration, iteration] is actually the pivot, the first nonzero element it a row\n        if m[iteration, iteration] == 0:\n            continue\n\n        # after checking that the pivot is not zero,\n        # check each number under the pivot and make it zero\n        for row in range(iteration + 1, rows):\n            if m[row, iteration] == 0:\n                continue\n            m[row, :] = m[row, :] * m[iteration, iteration] - m[row, iteration] * m[iteration, :]\n    return m\n\n\n\n# We had implemented the division with the betas prior to your announcement\n# that it wasn't required to do it so we added a flag to disable them\ndef euclid_triang(f, g, x, use_beta=True):\n    prs = [f, g]\n    r_1 = f\n    r0 = g\n    delta = delta_f(r_1, r0, x)\n    r_1_coeffs = Poly(r_1).coeffs()  # r-1\n    r0_coeffs = Poly(r0).coeffs()  # r0\n\n    m = Matrix([[*r0_coeffs, 0], [0, *r0_coeffs], r_1_coeffs])\n    m = pivot(m)\n    r = create_polynomial_from_coeff(m[-1, :], x)\n\n    if not use_beta:\n        r_1 = r0\n        r0 = r\n        while True:\n            r_1_coeffs = Poly(r_1).coeffs()  # r-1\n            r0_coeffs = Poly(r0).coeffs()  # r0\n            m = Matrix([[*r0_coeffs, 0], [0, *r0_coeffs], r_1_coeffs])\n            m = pivot(m)\n            r = create_polynomial_from_coeff(m[-1, :])\n            prs.append(r)\n            if degree(r, x) <= 0:\n                break\n\n            r_1 = r0\n            r0 = r\n        return prs\n    else:\n\n        i = 0\n        psis = [-1]\n        betas = [psis[i]**delta]\n        deltas = [delta]\n\n        r = r / betas[i]\n        prs.append(r)\n\n        r_1 = r0\n        r0 = r\n\n        i = i + 1\n        while True:\n\n            delta = delta_f(r_1, r0, x)\n            r_1_coeffs = Poly(r_1).coeffs()  # r-1\n            r0_coeffs = Poly(r0).coeffs()  # r0\n            deltas.append(delta)\n\n            m = Matrix([[*r0_coeffs, 0], [0, *r0_coeffs], r_1_coeffs])\n            m = pivot(m)\n            r = create_polynomial_from_coeff(m[-1, :])\n\n            psi = psi_f(r_1, deltas[i - 1], psis[i - 1], x)\n            psis.append(psi)\n\n            beta = beta_f(r_1, deltas[i - 1], psis[i], x)\n            betas.append(beta)\n\n            r = r / abs(betas[i])\n            prs.append(r)\n\n            if degree(r, x) <= 0:\n                break\n\n            i = i + 1\n            r_1 = r0\n            r0 = r\n\n        return prs",
      "execution_count": 4,
      "outputs": []
    },
    {
      "metadata": {
        "ExecuteTime": {
          "end_time": "2019-11-21T21:17:52.520837Z",
          "start_time": "2019-11-21T21:17:52.514846Z"
        },
        "trusted": false
      },
      "cell_type": "code",
      "source": "f1 = x**3 + 3 * x**2 - 7 * x + 7\ng1 = 3 * x**2 + 6 * x - 7\nf2 = x**4 - x**3 + x**2 - 7 * x + 7\ng2 = 4 * x**3 - 3 * x**2 + 2 * x - 7",
      "execution_count": 5,
      "outputs": []
    },
    {
      "metadata": {
        "ExecuteTime": {
          "end_time": "2019-11-21T21:17:52.541834Z",
          "start_time": "2019-11-21T21:17:52.521826Z"
        },
        "trusted": false
      },
      "cell_type": "code",
      "source": "print(\"--- euclid_triang without using betas ---\")\nprint()\nprint(\"Checking euclid_triang for f: {0} and g: {1}\".format(f1, g1))\nprint(euclid_triang(f1, g1, x, use_beta=False))\nprint()\nprint(\"Checking euclid_triang for f: {0} and g: {1}\".format(f2, g2))\nprint(euclid_triang(f2, g2, x, use_beta=False))",
      "execution_count": 6,
      "outputs": [
        {
          "name": "stdout",
          "output_type": "stream",
          "text": "--- euclid_triang without using betas ---\n\nChecking euclid_triang for f: x**3 + 3*x**2 - 7*x + 7 and g: 3*x**2 + 6*x - 7\n[x**3 + 3*x**2 - 7*x + 7, 3*x**2 + 6*x - 7, 26208]\n\nChecking euclid_triang for f: x**4 - x**3 + x**2 - 7*x + 7 and g: 4*x**3 - 3*x**2 + 2*x - 7\n[x**4 - x**3 + x**2 - 7*x + 7, 4*x**3 - 3*x**2 + 2*x - 7, 23616*x - 33040, 35974400]\n"
        }
      ]
    },
    {
      "metadata": {},
      "cell_type": "markdown",
      "source": "Παρατηρούμε ότι  οι συντελεστές των πολυωνύμων καταλήγουν να είναι αρκετά μεγάλοι.\n\nΑυτό συμβαίνει διότι κατά την διαδικασία της τριγωνοποίησης, επειδή προσπαθούμε να έχουμε μόνο ακέραιους συντελεστές, η γραμμή που προσπαθούμε να απαλείψουμε πολλαπλασιάζεται με μεγάλα νούμερα.\n\nΕπιπλέον αυτή η διαδικασία συμβαίνει σε κάθε επανάληψη και για αυτό οδηγούμαστε σε τόσο μεγάλα νούμερα."
    },
    {
      "metadata": {
        "ExecuteTime": {
          "end_time": "2019-11-21T21:17:52.579833Z",
          "start_time": "2019-11-21T21:17:52.542832Z"
        },
        "trusted": false
      },
      "cell_type": "code",
      "source": "print(\"--- euclid_triang with betas ---\")\nprint()\nprint(\"Checking euclid_triang for f: {0} and g: {1}\".format(f1, g1))\nprint(euclid_triang(f1, g1, x))\nprint(\"euclid_amv(f, g, x) == euclid_triang(f, g, x): {0}\".format(euclid_amv(f1, g1, x) == euclid_triang(f1, g1, x)))\nprint()\nprint(\"Checking euclid_triang for f: {0} and g: {1}\".format(f2, g2))\nprint(euclid_triang(f2, g2, x))\nprint(\"euclid_amv(f, g, x) == euclid_triang(f, g, x): {0}\".format(euclid_amv(f2, g2, x) == euclid_triang(f2, g2, x)))\n",
      "execution_count": 7,
      "outputs": [
        {
          "name": "stdout",
          "output_type": "stream",
          "text": "--- euclid_triang with betas ---\n\nChecking euclid_triang for f: x**3 + 3*x**2 - 7*x + 7 and g: 3*x**2 + 6*x - 7\n[x**3 + 3*x**2 - 7*x + 7, 3*x**2 + 6*x - 7, 84 - 60*x, 2912]\neuclid_amv(f, g, x) == euclid_triang(f, g, x): True\n\nChecking euclid_triang for f: x**4 - x**3 + x**2 - 7*x + 7 and g: 4*x**3 - 3*x**2 + 2*x - 7\n[x**4 - x**3 + x**2 - 7*x + 7, 4*x**3 - 3*x**2 + 2*x - 7, 5*x**2 - 82*x + 105, 1476*x - 2065, 5621]\neuclid_amv(f, g, x) == euclid_triang(f, g, x): True\n"
        }
      ]
    },
    {
      "metadata": {},
      "cell_type": "markdown",
      "source": "# Sylvester"
    },
    {
      "metadata": {},
      "cell_type": "markdown",
      "source": "## Sylvester1"
    },
    {
      "metadata": {},
      "cell_type": "markdown",
      "source": "## Sylvester2"
    },
    {
      "metadata": {},
      "cell_type": "markdown",
      "source": "# Το θεώρημα της Anna Johnson και η σημασία του"
    },
    {
      "metadata": {},
      "cell_type": "markdown",
      "source": "**1η Ερώτηση**\n\nΠαρατηρούμε ότι τα πρόσημα ακολουθούν το παρακάτω pattern $[++,--,++]$ το οποίο σημαίνει οποί είναι $+$ είναι ίδια ενώ στο $-$ αντίθετα.\n\n**2η Ερώτηση**\n\nΒλέπουμε ότι δεν ισχύει και για αυτά τα αποτελέσματα."
    },
    {
      "metadata": {},
      "cell_type": "markdown",
      "source": "**3η Ερώτηση**\n\n$$r_{k}^{(i)}=\\frac{(-1)^{u_{i-1}}(-1)^{u_{i-}}...(-1)^{u_{1}}(-1)^{v_{i-1}}}{\\rho_{i-1}^{p_{i-2}+1}\\rho_{i-2}^{p_{i-2}+p_{i-1}}...\\rho_{i-1}^{p_{1}+p_{2}}\\rho_{0}^{p_{1}}}Det(i,k)$$\n\nWith\n$$ u_{i-1}=1+2+...+p_{i-1}, v_{i-1}=p_{1}+p_{2}+...+p_{i-1}$$\n"
    },
    {
      "metadata": {},
      "cell_type": "markdown",
      "source": "\n\\[Det(i,k)=\n\\begin{bmatrix}\n    a_{0} & a_{1} & a_{2} & ... & . & . & ...   & a_{2v_{i-1}} & a_{2v_{i-1}+1+k} \\\\\n    b_{0} & b_{1} & b_{2} & ... & . & . & ...   & b_{2v_{i-1}} & b_{2v_{i-1}+1+k} \\\\\n    0     & a_{0} & a_{1} & ... & . & . & ...   & a_{2v_{i-1}-1} & a_{2v_{i-1}+k} \\\\\n    0     & a_{0} & a_{1} & ... & . & . & ...   & a_{2v_{i-1}-1} & a_{2v_{i-1}+k} \\\\\n    .     & .     & .     & ... & . & . & ...   & .              & . \\\\\n    0     & 0     & 0     & ... & a_{0} & a_{1} & ... & a_{v_{i-1}} & a_{v_{i-1}+1+k} \\\\\n    0     & 0     & 0     & ... & b_{0} & b_{1} & ... & a_{v_{i-1}} & a_{v_{i-1}+1+k} \\\\\n\\end{bmatrix}\n\\]"
    },
    {
      "metadata": {},
      "cell_type": "markdown",
      "source": "Πολυώνυμο από την sturm_sylv2 $-15x^{4}+3x^{2}-9$\n\nΠολυώνυμο από sτην sturm_q $\\frac{5}{9}x^{4}-\\frac{1}{9}x^{2}+\\frac{1}{3} \\Rightarrow$\n\n$-15x^{4}+3x^{2}-9 \\Rightarrow -\\frac{27}{1}\\frac{5}{9}x^{4}+\\frac{27}{1}\\frac{1}{9}x^{2}-\\frac{27}{1}\\frac{1}{3} \\Rightarrow-15x^{4}+3x^{2}-9$"
    },
    {
      "metadata": {},
      "cell_type": "markdown",
      "source": "# Ακολουθίες Sturm για την απομόνωση των πραγματικών ριζών πολυωνύμων με ακέραιους συντελεστες"
    },
    {
      "metadata": {
        "ExecuteTime": {
          "end_time": "2019-11-21T21:17:52.586819Z",
          "start_time": "2019-11-21T21:17:52.580833Z"
        },
        "trusted": false
      },
      "cell_type": "code",
      "source": "def cauchy_upper_bound(f, x):\n    n = degree(f, x)\n    lc = LC(f, x)\n\n    # extract coeffs and k in (k,c) format\n    coeffs = []\n    while not degree(f, x) < 1:\n        t = LT(f)\n        d = degree(t, x)\n        coeffs.append((n - d, LC(t, x)))\n        f = f - t\n    else:\n        coeffs.append((n, f))\n\n    # if the leading coefficient is negative change all signs\n    if lc < 0:\n        coeffs = [(k, -c) for k, c in coeffs]\n        lc = -lc\n\n    # keep only the negative coefficients\n    n_coeffs = [c for c in coeffs if c[1] < 0]\n\n    lmbda = len(n_coeffs)\n    if lmbda == 0:\n        return 0\n\n    # possible upper limits\n    ub_candidates = []\n    for k, c in n_coeffs:\n        ub = (-lmbda * c) / lc\n        ub = root(ub, k)\n        ub_candidates.append(ub)\n\n    return ceil((65 / 64) * max(ub_candidates))",
      "execution_count": 8,
      "outputs": []
    },
    {
      "metadata": {
        "ExecuteTime": {
          "end_time": "2019-11-21T21:17:52.594817Z",
          "start_time": "2019-11-21T21:17:52.587829Z"
        },
        "trusted": false
      },
      "cell_type": "code",
      "source": "# The function groupby from itertools create groups of consecutive items based on a condition\n# for example if we have [1,1,-1,-1] it will create 2 groups [1,1] and [-1,-1]\n# or for [1,-1,1,-1] 4 groups [1], [-1], [1], [-1] an in this way we can count the sign changes\ndef sign_var(num_list):\n    num_list = [i for i in num_list if i != 0]\n    return len(list(itertools.groupby(num_list, lambda i: i > 0))) - 1\n\n\ndef square_free_factors(f, x):\n    r = gcd(f, diff(f, x))\n\n    t = div(f, r)[0]\n    sq_free_factors = []\n    while degree(r, x) > 0:\n        v = gcd(r, t)\n        s = div(t, v)[0]\n        sq_free_factors.append(s)\n        r = div(r, v)[0]\n        t = v\n    else:\n        sq_free_factors.append(t)\n\n    p = 1\n    for d, s in enumerate(sq_free_factors):\n        p = p * (s**(d + 1))\n    return p",
      "execution_count": 9,
      "outputs": []
    },
    {
      "metadata": {
        "ExecuteTime": {
          "end_time": "2019-11-21T21:17:52.603813Z",
          "start_time": "2019-11-21T21:17:52.595816Z"
        },
        "trusted": false
      },
      "cell_type": "code",
      "source": "\ndef calculate_roots(f, x, prec=1e-7):\n    f = square_free_factors(f, x)\n    seq = sturm(f)\n\n    upper_bound = cauchy_upper_bound(f, x)\n\n    root_isolation_intervals = []\n    intervals_to_be_processed = [[0, upper_bound]]\n\n    while intervals_to_be_processed:\n        interval = intervals_to_be_processed.pop()\n\n        left_values = []\n        right_values = []\n\n        for s in seq:\n            left_values.append(sign(s.subs({x: interval[0]})))\n\n        for s in seq:\n            right_values.append(sign(s.subs({x: interval[1]})))\n\n        number_of_roots = sign_var(left_values) - sign_var(right_values)\n\n        if number_of_roots == 0:\n            continue\n        elif number_of_roots == 1:\n            root_isolation_intervals.append(interval)\n        else:\n            mp = sum(interval) / 2\n\n            intervals_to_be_processed.append([interval[0], mp])\n            intervals_to_be_processed.append([mp, interval[1]])\n\n            if f.subs({x: mp}) == 0:\n                root_isolation_intervals.append([mp, mp])\n\n    refined_interval = []\n    for interval in root_isolation_intervals:\n        r = refine_root(f, interval[0], interval[1], eps=prec)\n        refined_interval.append(r)\n\n    if f.subs({x: 0}) == 0:\n        refined_interval.append([0, 0])\n\n    return refined_interval",
      "execution_count": 10,
      "outputs": []
    },
    {
      "metadata": {
        "ExecuteTime": {
          "end_time": "2019-11-21T21:17:52.609811Z",
          "start_time": "2019-11-21T21:17:52.604813Z"
        },
        "trusted": false
      },
      "cell_type": "code",
      "source": "# print the refined interval calcuted from calculate_roots\n# digits only controls the print precision\ndef print_roots(f, x, digits=10):\n    positive_roots = calculate_roots(f, x)\n    negative_roots = calculate_roots(f.subs({x: -x}), x)\n\n    positive_roots = [(Float(a, digits), Float(b, digits)) for a, b in positive_roots]\n    negative_roots = [(Float(a, digits), Float(b, digits)) for a, b in negative_roots]\n    print(\"Polynomial: {0}\".format(f))\n    print(\"Found: {0} positive roots at intervals: {1}\".format(len(positive_roots), positive_roots))\n    print(\"Found: {0} negative roots at intervals: {1}\".format(len(negative_roots), negative_roots))",
      "execution_count": 11,
      "outputs": []
    },
    {
      "metadata": {
        "ExecuteTime": {
          "end_time": "2019-11-21T21:17:52.703782Z",
          "start_time": "2019-11-21T21:17:52.610811Z"
        },
        "trusted": false
      },
      "cell_type": "code",
      "source": "f1 = x**3 - 7 * x + 7\nf2 = 32 * x**6 - 48 * x**4 + 18 * x**2 - 1\nprint_roots(f1, x)\nprint()\nprint_roots(f2, x)\n",
      "execution_count": 12,
      "outputs": [
        {
          "name": "stdout",
          "output_type": "stream",
          "text": "Polynomial: x**3 - 7*x + 7\nFound: 2 positive roots at intervals: [(1.692021435, 1.692021496), (1.356895850, 1.356895889)]\nFound: 1 negative roots at intervals: [(3.048917318, 3.048917402)]\n\nPolynomial: 32*x**6 - 48*x**4 + 18*x**2 - 1\nFound: 3 positive roots at intervals: [(0.9659258221, 0.9659258267), (0.7071067499, 0.7071068124), (0.2588190184, 0.2588190549)]\nFound: 3 negative roots at intervals: [(0.9659258221, 0.9659258267), (0.7071067499, 0.7071068124), (0.2588190184, 0.2588190549)]\n"
        }
      ]
    }
  ],
  "metadata": {
    "kernelspec": {
      "name": "python3",
      "display_name": "Python 3",
      "language": "python"
    },
    "language_info": {
      "mimetype": "text/x-python",
      "nbconvert_exporter": "python",
      "name": "python",
      "file_extension": ".py",
      "version": "3.5.4",
      "pygments_lexer": "ipython3",
      "codemirror_mode": {
        "version": 3,
        "name": "ipython"
      }
    },
    "latex_envs": {
      "LaTeX_envs_menu_present": true,
      "autoclose": true,
      "autocomplete": true,
      "bibliofile": "biblio.bib",
      "cite_by": "apalike",
      "current_citInitial": 1,
      "eqLabelWithNumbers": true,
      "eqNumInitial": 1,
      "hotkeys": {
        "equation": "Ctrl-E",
        "itemize": "Ctrl-I"
      },
      "labels_anchors": false,
      "latex_user_defs": false,
      "report_style_numbering": false,
      "user_envs_cfg": false
    },
    "toc": {
      "base_numbering": 1,
      "nav_menu": {},
      "number_sections": true,
      "sideBar": true,
      "skip_h1_title": false,
      "title_cell": "Table of Contents",
      "title_sidebar": "Contents",
      "toc_cell": false,
      "toc_position": {},
      "toc_section_display": true,
      "toc_window_display": false
    }
  },
  "nbformat": 4,
  "nbformat_minor": 2
}
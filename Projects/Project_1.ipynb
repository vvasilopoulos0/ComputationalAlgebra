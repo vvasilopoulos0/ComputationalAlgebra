{
  "cells": [
    {
      "metadata": {
        "ExecuteTime": {
          "end_time": "2019-10-25T16:29:25.044904Z",
          "start_time": "2019-10-25T16:29:24.417904Z"
        },
        "trusted": false
      },
      "cell_type": "code",
      "source": "import re\n\nfrom sympy import ZZ, simplify, symbols\nfrom sympy.parsing.sympy_parser import parse_expr\n\na = 612\nb = 342\ncounter = 0\n\n#Θεωρούμε διαίρεση κάθε κλήση της gcd2 εκτός της τελευταίας όπου επιστρέφει αποτέλεσμα.",
      "execution_count": 1,
      "outputs": []
    },
    {
      "metadata": {},
      "cell_type": "markdown",
      "source": "1.1"
    },
    {
      "metadata": {
        "ExecuteTime": {
          "end_time": "2019-10-25T16:29:25.050904Z",
          "start_time": "2019-10-25T16:29:25.046904Z"
        },
        "trusted": false
      },
      "cell_type": "code",
      "source": "def gcd1(a, b):\n    global counter\n    if b == 0:\n        return a\n    counter +=1\n    if a >= b:\n        return gcd1(b, a - b)\n    else:\n        return gcd1(a, b - a)",
      "execution_count": 2,
      "outputs": []
    },
    {
      "metadata": {
        "ExecuteTime": {
          "end_time": "2019-10-25T16:29:25.063904Z",
          "start_time": "2019-10-25T16:29:25.052905Z"
        },
        "trusted": false
      },
      "cell_type": "code",
      "source": "print(\"The gcd({0},{1}) is {2}\".format(a,b,gcd1(a, b)))\nprint(\"The number of divisions is {0}\".format(counter))\ncounter = 0 # reseting the counter",
      "execution_count": 3,
      "outputs": [
        {
          "name": "stdout",
          "output_type": "stream",
          "text": "The gcd(612,342) is 18\nThe number of divisions is 9\n"
        }
      ]
    },
    {
      "metadata": {},
      "cell_type": "markdown",
      "source": "1.2"
    },
    {
      "metadata": {
        "ExecuteTime": {
          "end_time": "2019-10-25T16:29:25.071904Z",
          "start_time": "2019-10-25T16:29:25.065905Z"
        },
        "trusted": false
      },
      "cell_type": "code",
      "source": "def gcd2(a, b):\n    global counter\n    if b == 0:\n        return abs(a)\n    counter +=1\n    r = ZZ.rem(a, b)\n    q = ZZ.quo(a, b)\n    if r > abs(b) / 2:\n        if q > 0:\n            q = q + 1\n            r = a - b * q\n            return gcd2(b, r)\n        else:\n            q = q - 1\n            r = a - b * q\n            return gcd2(b, r)\n    elif r <= abs(b) / 2:\n        return gcd2(b, r)",
      "execution_count": 4,
      "outputs": []
    },
    {
      "metadata": {
        "ExecuteTime": {
          "end_time": "2019-10-25T16:29:25.080906Z",
          "start_time": "2019-10-25T16:29:25.072904Z"
        },
        "trusted": false
      },
      "cell_type": "code",
      "source": "print(\"The gcd({0},{1}) is {2}\".format(a,b,gcd2(a, b)))\nprint(\"The number of divisions is {0}\".format(counter))\ncounter = 0 # reseting the counter",
      "execution_count": 5,
      "outputs": [
        {
          "name": "stdout",
          "output_type": "stream",
          "text": "The gcd(612,342) is 18\nThe number of divisions is 3\n"
        }
      ]
    },
    {
      "metadata": {
        "ExecuteTime": {
          "end_time": "2019-10-25T16:29:16.339026Z",
          "start_time": "2019-10-25T16:29:16.335026Z"
        }
      },
      "cell_type": "markdown",
      "source": "Βλέπουμε οτι οι ο αριθμός των διαιρέσεων έγινε 3 φορές μικρότερος"
    },
    {
      "metadata": {},
      "cell_type": "markdown",
      "source": "1.4 Extended gcd"
    },
    {
      "metadata": {},
      "cell_type": "markdown",
      "source": "1.4.1"
    },
    {
      "metadata": {
        "ExecuteTime": {
          "end_time": "2019-10-25T16:29:25.095918Z",
          "start_time": "2019-10-25T16:29:25.082905Z"
        },
        "trusted": false
      },
      "cell_type": "code",
      "source": "def gcd3(a, b, dividend=None, divisor=None, quo=None, rem=None):\n    dividend = dividend or []\n    divisor = divisor or []\n    quo = quo or []\n    rem = rem or []\n\n    if b == 0:\n        size = len(rem) - 1\n        # build a string representation of the equation\n\n        eq_str = \"{0}-{1}*{2}\".format(dividend[size - 1], divisor[size - 1], quo[size - 1])\n        # replace each number until we reach the last two numbers\n        for i in reversed(range(2, size)):\n            sub_str = \"({0}-{1}*{2})\".format(dividend[i - 1], divisor[i - 1], quo[i - 1])\n            eq_str = re.sub(str(dividend[i + 1]), sub_str, eq_str)\n\n            sub_str = \"({0}-{1}*{2})\".format(dividend[i - 2], divisor[i - 2], quo[i - 2])\n            eq_str = re.sub(str(dividend[i]), sub_str, eq_str)\n\n        # substitute dividend[1] with the variable x\n        eq_str = re.sub(str(dividend[1]), \"x\", eq_str)\n        \n        # substitute dividend[0] with the variable y\n        eq_str = re.sub(str(dividend[0]), \"y\", eq_str)\n        \n        # we can now simplify the expression\n        final_eq = simplify(parse_expr(eq_str))\n\n        # s is the coefficient of y\n        # t is the coefficient of x\n        s = final_eq.coeff(symbols(\"y\"))\n        t = final_eq.coeff(symbols(\"x\"))\n        return s, t, a\n\n    r = ZZ.rem(a, b)\n    q = ZZ.quo(a, b)\n    \n    quo.append(q)\n    rem.append(r)\n    dividend.append(a)\n    divisor.append(b)\n\n    print(\"{0}={1}*{2}+{3}\".format(a,q,b,r))\n\n    return gcd3(b, r, dividend, divisor, quo, rem)",
      "execution_count": 6,
      "outputs": []
    },
    {
      "metadata": {
        "ExecuteTime": {
          "end_time": "2019-10-25T16:29:25.257919Z",
          "start_time": "2019-10-25T16:29:25.096915Z"
        },
        "trusted": false
      },
      "cell_type": "code",
      "source": "print(\"The gcd({0},{1}) is {4}, s={2} t={3}\".format(a,b,*gcd3(a, b)))",
      "execution_count": 7,
      "outputs": [
        {
          "name": "stdout",
          "output_type": "stream",
          "text": "612=1*342+270\n342=1*270+72\n270=3*72+54\n72=1*54+18\n54=3*18+0\nThe gcd(612,342) is 18, s=-5 t=9\n"
        }
      ]
    },
    {
      "metadata": {},
      "cell_type": "markdown",
      "source": "1.4.2"
    },
    {
      "metadata": {
        "ExecuteTime": {
          "end_time": "2019-10-25T16:29:25.263908Z",
          "start_time": "2019-10-25T16:29:25.258906Z"
        },
        "trusted": false
      },
      "cell_type": "code",
      "source": "def gcd4(a, b, inv=False):\n    s0 = 1\n    t0 = 0\n    s1 = 0\n    t1 = 1\n    r0 = a\n    r1 = b\n\n    q = ZZ.quo(a, b)\n    while True:\n        r = r0 - r1 * q\n        s = s0 - s1 * q\n        t = t0 - t1 * q\n\n        s0 = s1\n        s1 = s\n        t0 = t1\n        t1 = t\n        r0 = r1\n        r1 = r\n        if r == 0:\n            break\n        q = ZZ.quo(b, r)\n        b = r\n\n    return s0, t0, r0",
      "execution_count": 8,
      "outputs": []
    },
    {
      "metadata": {
        "ExecuteTime": {
          "end_time": "2019-10-25T16:29:25.274904Z",
          "start_time": "2019-10-25T16:29:25.264907Z"
        },
        "trusted": false
      },
      "cell_type": "code",
      "source": "print(\"The gcd({0},{1}) is {4}, s={2} t={3}\".format(a,b,*gcd4(a, b)))",
      "execution_count": 9,
      "outputs": [
        {
          "name": "stdout",
          "output_type": "stream",
          "text": "The gcd(612,342) is 18, s=-5 t=9\n"
        }
      ]
    },
    {
      "metadata": {},
      "cell_type": "markdown",
      "source": "1.5\n\nThe argument `positive_result_only` is to return a positive result instead of a negative using\n\n$$-a \\pmod{n} \\equiv (n-a) \\pmod{n}$$"
    },
    {
      "metadata": {
        "ExecuteTime": {
          "end_time": "2019-10-25T16:29:25.280904Z",
          "start_time": "2019-10-25T16:29:25.275904Z"
        },
        "trusted": false
      },
      "cell_type": "code",
      "source": "def mod_inverse(a, b, positive_result_only=False):\n    # https://math.stackexchange.com/questions/355066/find-the-inverse-modulo-of-a-number-got-a-negative-result\n    s, t, d = gcd4(a, b, True)\n    if d == 1:\n        if positive_result_only and s < 0:\n            return b - abs(s)\n        else:\n            return s\n    else:\n        return None",
      "execution_count": 10,
      "outputs": []
    },
    {
      "metadata": {
        "ExecuteTime": {
          "end_time": "2019-10-25T16:29:25.286904Z",
          "start_time": "2019-10-25T16:29:25.281904Z"
        },
        "trusted": false
      },
      "cell_type": "code",
      "source": "m=17\nn=3120\nprint(\"The inverse modulo of {0} mod {1} is {2}\".format(m,n,mod_inverse(m, n)))\nprint(\"The positive inverse modulo of {0} mod {1} is {2}\".format(m,n,mod_inverse(m, n,True)))",
      "execution_count": 11,
      "outputs": [
        {
          "name": "stdout",
          "output_type": "stream",
          "text": "The inverse modulo of 17 mod 3120 is -367\nThe positive inverse modulo of 17 mod 3120 is 2753\n"
        }
      ]
    },
    {
      "metadata": {},
      "cell_type": "markdown",
      "source": "Όλα τα υπολογιστικά αντίγραφα του $Z_{29}$"
    },
    {
      "metadata": {
        "ExecuteTime": {
          "end_time": "2019-10-25T16:29:25.293907Z",
          "start_time": "2019-10-25T16:29:25.287903Z"
        },
        "trusted": false
      },
      "cell_type": "code",
      "source": "n=29\nm=range(0,29)\n\nfor i in m:\n    print(\"The inverse modulo of {0} mod {1} is {2}\".format(i,n,mod_inverse(i, n)))\n",
      "execution_count": 12,
      "outputs": [
        {
          "name": "stdout",
          "output_type": "stream",
          "text": "The inverse modulo of 0 mod 29 is None\nThe inverse modulo of 1 mod 29 is 1\nThe inverse modulo of 2 mod 29 is -14\nThe inverse modulo of 3 mod 29 is 10\nThe inverse modulo of 4 mod 29 is -7\nThe inverse modulo of 5 mod 29 is 6\nThe inverse modulo of 6 mod 29 is 5\nThe inverse modulo of 7 mod 29 is -4\nThe inverse modulo of 8 mod 29 is 11\nThe inverse modulo of 9 mod 29 is 13\nThe inverse modulo of 10 mod 29 is 3\nThe inverse modulo of 11 mod 29 is 8\nThe inverse modulo of 12 mod 29 is -12\nThe inverse modulo of 13 mod 29 is 9\nThe inverse modulo of 14 mod 29 is -2\nThe inverse modulo of 15 mod 29 is 2\nThe inverse modulo of 16 mod 29 is -9\nThe inverse modulo of 17 mod 29 is 12\nThe inverse modulo of 18 mod 29 is -8\nThe inverse modulo of 19 mod 29 is -3\nThe inverse modulo of 20 mod 29 is -13\nThe inverse modulo of 21 mod 29 is -11\nThe inverse modulo of 22 mod 29 is 4\nThe inverse modulo of 23 mod 29 is -5\nThe inverse modulo of 24 mod 29 is -6\nThe inverse modulo of 25 mod 29 is 7\nThe inverse modulo of 26 mod 29 is -10\nThe inverse modulo of 27 mod 29 is 14\nThe inverse modulo of 28 mod 29 is -1\n"
        }
      ]
    }
  ],
  "metadata": {
    "kernelspec": {
      "name": "python3",
      "display_name": "Python 3",
      "language": "python"
    },
    "language_info": {
      "mimetype": "text/x-python",
      "nbconvert_exporter": "python",
      "name": "python",
      "file_extension": ".py",
      "version": "3.5.4",
      "pygments_lexer": "ipython3",
      "codemirror_mode": {
        "version": 3,
        "name": "ipython"
      }
    },
    "latex_envs": {
      "LaTeX_envs_menu_present": true,
      "autoclose": true,
      "autocomplete": true,
      "bibliofile": "biblio.bib",
      "cite_by": "apalike",
      "current_citInitial": 1,
      "eqLabelWithNumbers": true,
      "eqNumInitial": 1,
      "hotkeys": {
        "equation": "Ctrl-E",
        "itemize": "Ctrl-I"
      },
      "labels_anchors": false,
      "latex_user_defs": false,
      "report_style_numbering": false,
      "user_envs_cfg": false
    },
    "toc": {
      "base_numbering": 1,
      "nav_menu": {},
      "number_sections": true,
      "sideBar": true,
      "skip_h1_title": false,
      "title_cell": "Table of Contents",
      "title_sidebar": "Contents",
      "toc_cell": false,
      "toc_position": {},
      "toc_section_display": true,
      "toc_window_display": false
    }
  },
  "nbformat": 4,
  "nbformat_minor": 2
}